{
 "cells": [
  {
   "cell_type": "code",
   "execution_count": 1,
   "metadata": {},
   "outputs": [],
   "source": [
    "import numpy as np\n",
    "import matplotlib.pyplot as plt\n",
    "import pandas as pd\n",
    "import seaborn as sns\n",
    "%matplotlib inline\n"
   ]
  },
  {
   "cell_type": "code",
   "execution_count": 30,
   "metadata": {},
   "outputs": [
    {
     "data": {
      "text/plain": [
       "(1000, 4)"
      ]
     },
     "execution_count": 30,
     "metadata": {},
     "output_type": "execute_result"
    }
   ],
   "source": [
    "companies = pd.read_csv('data/b1.csv')\n",
    "X = companies.iloc[:,:-1].values\n",
    "Y = companies.iloc[:,4].values\n",
    "\n",
    "X.shape"
   ]
  },
  {
   "cell_type": "code",
   "execution_count": 3,
   "metadata": {},
   "outputs": [
    {
     "data": {
      "text/plain": [
       "<AxesSubplot:>"
      ]
     },
     "execution_count": 3,
     "metadata": {},
     "output_type": "execute_result"
    },
    {
     "data": {
      "image/png": "[encoded data removed]",
      "text/plain": [
       "<Figure size 432x288 with 2 Axes>"
      ]
     },
     "metadata": {
      "needs_background": "light"
     },
     "output_type": "display_data"
    }
   ],
   "source": [
    "sns.heatmap(companies.corr())"
   ]
  },
  {
   "cell_type": "code",
   "execution_count": 26,
   "metadata": {},
   "outputs": [
    {
     "data": {
      "text/plain": [
       "array([[0.0, 0.0, 1.0, 165349.2, 136897.8, 471784.1],\n",
       "       [1.0, 0.0, 0.0, 162597.7, 151377.59, 443898.53],\n",
       "       [0.0, 1.0, 0.0, 153441.51, 101145.55, 407934.54],\n",
       "       ...,\n",
       "       [1.0, 0.0, 0.0, 100275.47, 241926.31, 227142.82],\n",
       "       [1.0, 0.0, 0.0, 128456.23, 321652.14, 281692.32],\n",
       "       [0.0, 0.0, 1.0, 161181.72, 270939.86, 295442.17]], dtype=object)"
      ]
     },
     "execution_count": 26,
     "metadata": {},
     "output_type": "execute_result"
    }
   ],
   "source": [
    "\n",
    "from sklearn.preprocessing import LabelEncoder, OneHotEncoder\n",
    "from sklearn.compose import ColumnTransformer\n",
    "# labelencoder = LabelEncoder()\n",
    "# X[:,3] = labelencoder.fit_transform(X[:,3])\n",
    "\n",
    "from sklearn.compose import make_column_transformer\n",
    "ct = make_column_transformer(\n",
    "    (OneHotEncoder(), [3]),    # The column numbers to be transformed (here is [0] but can be [0, 1, 3])\n",
    "    remainder='passthrough'                         # Leave the rest of the columns untouched\n",
    ")\n",
    "\n",
    "X = ct.fit_transform(X)\n"
   ]
  },
  {
   "cell_type": "code",
   "execution_count": 24,
   "metadata": {
    "scrolled": true
   },
   "outputs": [
    {
     "data": {
      "text/plain": [
       "array([[1.0, 165349.2, 136897.8, 471784.1],\n",
       "       [0.0, 162597.7, 151377.59, 443898.53],\n",
       "       [0.0, 153441.51, 101145.55, 407934.54],\n",
       "       ...,\n",
       "       [0.0, 100275.47, 241926.31, 227142.82],\n",
       "       [0.0, 128456.23, 321652.14, 281692.32],\n",
       "       [1.0, 161181.72, 270939.86, 295442.17]], dtype=object)"
      ]
     },
     "execution_count": 24,
     "metadata": {},
     "output_type": "execute_result"
    }
   ],
   "source": [
    "X = X[:,1:]\n"
   ]
  },
  {
   "cell_type": "code",
   "execution_count": 8,
   "metadata": {},
   "outputs": [],
   "source": [
    "from sklearn.model_selection import train_test_split\n",
    "X_train,X_test,y_train,y_test = train_test_split(X,Y,test_size=0.25,random_state=0)"
   ]
  },
  {
   "cell_type": "code",
   "execution_count": 9,
   "metadata": {},
   "outputs": [
    {
     "data": {
      "text/plain": [
       "LinearRegression()"
      ]
     },
     "execution_count": 9,
     "metadata": {},
     "output_type": "execute_result"
    }
   ],
   "source": [
    "from sklearn.linear_model import LinearRegression\n",
    "lin_reg = LinearRegression()\n",
    "lin_reg.fit(X_train,y_train)"
   ]
  },
  {
   "cell_type": "code",
   "execution_count": 10,
   "metadata": {},
   "outputs": [],
   "source": [
    "\n",
    "y_pred = lin_reg.predict(X_test)"
   ]
  },
  {
   "cell_type": "code",
   "execution_count": 11,
   "metadata": {},
   "outputs": [
    {
     "name": "stdout",
     "output_type": "stream",
     "text": [
      "[-7.92323210e+02 -4.64382238e+02  5.24699015e-01  9.03445439e-01\n",
      "  1.03284926e-01]\n"
     ]
    }
   ],
   "source": [
    "print(lin_reg.coef_)"
   ]
  },
  {
   "cell_type": "code",
   "execution_count": 12,
   "metadata": {},
   "outputs": [
    {
     "name": "stdout",
     "output_type": "stream",
     "text": [
      "-57418.75678548415\n"
     ]
    }
   ],
   "source": [
    "print(lin_reg.intercept_)"
   ]
  },
  {
   "cell_type": "code",
   "execution_count": 13,
   "metadata": {},
   "outputs": [
    {
     "data": {
      "text/plain": [
       "0.920953619331005"
      ]
     },
     "execution_count": 13,
     "metadata": {},
     "output_type": "execute_result"
    }
   ],
   "source": [
    "from sklearn.metrics import r2_score\n",
    "r2_score(y_test,y_pred)"
   ]
  },
  {
   "cell_type": "code",
   "execution_count": 15,
   "metadata": {},
   "outputs": [
    {
     "data": {
      "text/plain": [
       "array([136897.8, 151377.59, 101145.55, 118671.85, 91391.77, 99814.71,\n",
       "       147198.87, 145530.06, 148718.95, 108679.17, 110594.11, 91790.61,\n",
       "       127320.38, 135495.07, 156547.42, 122616.84, 121597.55, 145077.58,\n",
       "       114175.79, 153514.11, 113867.3, 153773.43, 122782.75, 105751.03,\n",
       "       99281.34, 139553.16, 144135.98, 127864.55, 182645.56, 153032.06,\n",
       "       115641.28, 152701.92, 129219.61, 103057.49, 157693.92, 85047.44,\n",
       "       127056.21, 51283.14, 65947.93, 82982.09, 118546.05, 84710.77,\n",
       "       96189.63, 127382.3, 154806.14, 124153.04, 115816.21, 135426.92,\n",
       "       51743.15, 116983.8, 123327.9523, 116183.1212, 123739.6968,\n",
       "       120128.2187, 117505.1933, 114997.5096, 121737.3896, 131712.2998,\n",
       "       114485.9303, 131294.2049, 129410.636, 121778.5936, 116820.5277,\n",
       "       119459.2077, 112236.9898, 129146.4284, 113851.7728, 132703.2632,\n",
       "       118301.5084, 133779.8836, 116239.9797, 126963.50300000001,\n",
       "       120189.9508, 123128.4304, 131102.8057, 112516.8521, 130113.0238,\n",
       "       133370.059, 114700.2205, 116637.2512, 131173.8419, 114532.4509,\n",
       "       111797.776, 113645.0144, 111096.5697, 126224.0464, 130781.1487,\n",
       "       119784.9998, 115535.0813, 121301.7202, 112986.1936, 126628.1113,\n",
       "       122030.5434, 124958.2421, 128940.9992, 130921.7444, 117316.3048,\n",
       "       130355.9649, 124726.3773, 131250.6379, 116957.7267,\n",
       "       132660.28699999998, 129291.1592, 111824.8023, 119008.7698,\n",
       "       117058.4475, 132883.4384, 119556.3841, 128219.8555, 113886.9217,\n",
       "       126012.8575, 113927.8303, 111504.4745, 125541.0053, 123124.2953,\n",
       "       128664.829, 121827.6249, 111596.4819, 114755.3069, 131870.7654,\n",
       "       124364.4025, 122015.0366, 131266.1448, 129928.5658, 110644.5073,\n",
       "       116953.7392, 117822.8628, 125974.3118, 124279.0408, 121249.4398,\n",
       "       124420.3749, 132898.6499, 119445.7684, 125637.591, 118330.8977,\n",
       "       127695.2799, 117736.1719, 131947.1183, 132390.1719, 121495.1869,\n",
       "       125850.8475, 115583.9649, 126326.8348, 133498.2492, 124321.5739,\n",
       "       128347.4549, 125119.6613, 131270.8707, 120881.4099, 122985.7671,\n",
       "       120809.4875, 131252.4101, 129886.4757, 131624.7229, 125780.2543,\n",
       "       120233.0747, 126437.4506, 131295.2386, 123934.4927, 122681.0939,\n",
       "       119813.5029, 116901.9019, 120249.0247, 128303.888, 119608.8121,\n",
       "       130747.1813, 116632.9683, 126578.63699999999, 128865.68,\n",
       "       132696.0267, 121193.4674, 126613.4906, 113358.211, 117343.9218,\n",
       "       123636.7607, 130238.9987, 128696.4335, 128110.5689, 132803.3933,\n",
       "       120374.5565, 115230.4081, 121036.1833, 123169.7821, 111351.3256,\n",
       "       114747.3319, 122268.0202, 113012.4814, 113597.6077, 133338.4545,\n",
       "       133365.9238, 129110.6887, 133370.9451, 118295.8964, 115158.6334,\n",
       "       117467.2384, 132551.4435, 121615.4022, 114855.7324, 117305.6715,\n",
       "       118242.1392, 127371.26, 130254.0625, 125988.0465, 122981.7797,\n",
       "       117469.1583, 118282.1617, 129555.5146, 116012.6932, 122327.9801,\n",
       "       112593.9434, 131310.5978, 131654.7029, 124154.2473, 114992.9313,\n",
       "       120937.6777, 127216.0435, 111211.3206, 126881.095, 111367.7186,\n",
       "       112045.886, 113391.5877, 122983.2565, 117524.6877, 133460.5896,\n",
       "       113763.7528, 125590.9227, 121242.6463, 126496.5244, 116818.4601,\n",
       "       123058.7233, 118683.1253, 117658.0468, 128849.4347, 123236.2402,\n",
       "       121547.9103, 130311.8072, 113906.1207, 119148.0363, 111026.2719,\n",
       "       112127.4079, 115850.0925, 120084.5041, 110841.5185, 110855.2532,\n",
       "       111181.9314, 113160.7567, 131933.3836, 128912.7914, 122437.5621,\n",
       "       117567.6639, 126333.776, 122119.1542, 112166.1013,\n",
       "       113104.93199999999, 130396.8735, 131206.6279, 120938.5638,\n",
       "       113860.3385, 119757.8258, 129353.1867, 131142.0898, 131521.9344,\n",
       "       118049.1155, 121000.739, 123850.1648, 124558.3123, 122256.7962,\n",
       "       122318.3806, 127729.2474, 121855.9803, 131399.3563, 118016.0342,\n",
       "       126660.4543, 131162.1749, 111685.5357, 129752.0827, 130069.0138,\n",
       "       127380.1211, 112576.2213, 121453.5399, 122081.1992, 120873.1396,\n",
       "       119832.2588, 112372.2689, 111527.9563, 114727.0991,\n",
       "       118944.52699999999, 116258.1449, 131174.8757, 120131.7631,\n",
       "       127520.2737, 133359.27800000002, 118448.6022, 117881.0505,\n",
       "       123813.8344, 132117.5463, 122425.5996, 128572.9692, 118246.8651,\n",
       "       131011.9797, 119828.7144, 129802.1478, 120481.4801, 131945.9368,\n",
       "       114627.1167, 127199.0598, 130363.0537, 133898.622, 128256.0382,\n",
       "       119387.87599999999, 133216.1717, 116396.8207, 122922.5582,\n",
       "       113503.6803, 123384.8108, 127962.1459, 129556.4007, 117024.037,\n",
       "       118713.696, 120159.0848, 132406.2696, 131225.5315, 133601.1853,\n",
       "       125315.04800000001, 114124.1031, 131304.0997, 125459.9265,\n",
       "       110636.5323, 112416.722, 133448.4795, 117934.9554, 133885.3304,\n",
       "       125420.7901, 114736.994, 129755.7748, 122941.3141, 125406.1693,\n",
       "       128663.9429, 122125.5046, 126678.9148, 124637.9143, 130667.5793,\n",
       "       131781.2685, 126651.8885, 117848.7076, 119343.2753, 127004.1162,\n",
       "       125745.2531, 129955.7397, 118044.0942, 120723.8305, 126363.756,\n",
       "       128974.3759, 133554.517, 127993.8981, 115774.9211,\n",
       "       111632.51699999999, 128416.5713, 127170.2613, 124142.2849,\n",
       "       115897.7946, 131821.291, 119650.6068, 117753.7464, 129322.3207,\n",
       "       111358.1191, 131572.5902, 130915.6893, 128608.2658, 120219.3401,\n",
       "       113252.7642, 113248.7767, 131236.9032, 127014.0111, 131582.7805,\n",
       "       117968.9228, 129975.0864, 120635.5151, 133783.428, 128280.7015,\n",
       "       110955.0879, 118286.1492, 119943.3176, 125600.8176, 114591.6724,\n",
       "       110916.5422, 120341.9182, 127885.6453, 113143.773, 122790.3805,\n",
       "       128735.5699, 117017.8343, 131638.4576, 129241.0942, 113708.2234,\n",
       "       132362.7026, 111173.6611, 123356.16, 112290.1563, 120260.3964,\n",
       "       130509.8522, 133207.4583, 123935.0835, 131660.9056,\n",
       "       123699.82199999999, 111008.9928, 112349.8208, 117361.3485,\n",
       "       112924.6091, 112122.5343, 115294.9462, 129814.701,\n",
       "       115438.34800000001, 118831.9913, 116843.7142, 127875.7505,\n",
       "       124270.4751, 115824.6907, 128644.4486, 132132.3147, 128980.4309,\n",
       "       114319.6374, 127164.9447, 133967.1476, 113895.3397, 131876.9681,\n",
       "       128033.9206, 134023.1201, 120308.3938, 124741.1458, 121833.3846,\n",
       "       118813.6785, 115518.0976, 116807.8268, 123838.2024, 113602.3336,\n",
       "       132232.8879, 112219.12, 119741.7282, 126386.9425, 129178.0329,\n",
       "       117593.2133, 130062.2203, 123782.9684, 112142.9148, 130596.3953,\n",
       "       117634.4173, 129834.6384, 117074.1021, 114554.6036, 118790.6397,\n",
       "       113848.0807, 129213.3295, 116766.4752, 115903.70199999999,\n",
       "       130249.7797, 126023.9338, 130537.0261, 113796.0957, 117633.3835,\n",
       "       117198.3048, 113216.8769, 133958.7296, 114177.8603, 117748.2821,\n",
       "       122862.1552, 129228.0979, 127088.8871, 113232.0884, 115113.5896,\n",
       "       133312.905, 119661.0924, 130895.0135, 118496.5997, 129460.8488,\n",
       "       115828.9736, 123948.6704, 133942.7797, 113611.9331, 115333.7873,\n",
       "       130455.2089, 116659.2562, 129640.4332, 114751.1717, 119461.4229,\n",
       "       120521.79800000001, 122214.4107, 128928.446, 126499.6258,\n",
       "       116149.8921, 126614.229, 126759.2552, 114510.2982, 125166.9203,\n",
       "       111988.8798, 132069.4011, 113437.5176, 126032.6472, 119100.7772,\n",
       "       126368.4819, 129007.7526, 117205.9844, 123830.6705, 113332.2185,\n",
       "       125300.2795, 121163.3397, 119816.1612, 116641.8294, 126106.0464,\n",
       "       113857.9755, 118613.5659, 118999.0226, 127059.94099999999,\n",
       "       125938.8675, 125964.5646, 115400.6884, 125429.5035, 117825.8165,\n",
       "       131265.9971, 125079.4911, 114169.8853, 123463.5267, 111336.4094,\n",
       "       132116.0694, 128223.5476, 133188.5546, 111483.7986, 114080.9792,\n",
       "       115436.7234, 119364.0988, 133806.6145, 128218.3786, 128599.1094,\n",
       "       133632.6421, 117857.864, 112239.3528, 121990.964, 120759.8655,\n",
       "       133595.1302, 126712.1438, 132514.0793, 128759.0518, 133434.4494,\n",
       "       119251.8585, 115314.73599999999, 132366.8378, 115491.219,\n",
       "       111808.8523, 131293.9095, 115023.05900000001, 127593.2299,\n",
       "       126909.5981, 126567.856, 132302.0043, 122402.2655, 120785.1196,\n",
       "       120544.2461, 122832.1752, 127979.7204, 120317.4026, 129786.0502,\n",
       "       127306.4265, 118872.6046, 123759.4865, 114407.6574, 124466.3048,\n",
       "       119985.7031, 120334.534, 127426.6417, 126446.9024, 121684.9616,\n",
       "       133889.9086, 111326.2192, 115184.0351, 119147.2979, 119002.567,\n",
       "       132061.8692, 124166.8005, 132465.9341, 120593.8681, 117622.6025,\n",
       "       115760.448, 116602.8407, 130795.1787, 114782.3332, 124435.1434,\n",
       "       116597.524, 124635.9944, 122069.5322, 113298.8418, 124118.9507,\n",
       "       124069.3287, 120805.9431, 132550.4097, 111487.1954, 133431.3481,\n",
       "       119764.76699999999, 111928.0338, 113306.0783, 130017.7672,\n",
       "       110913.2932, 125841.1003, 133142.3294, 112423.6631, 132847.6987,\n",
       "       133453.9438, 121757.9178, 116692.4852, 129136.6812, 127915.9207,\n",
       "       123978.5027, 128636.0305, 123772.7781, 125874.034, 119501.7408,\n",
       "       119433.6582, 112936.2762, 133015.3207, 133938.9399, 119720.757,\n",
       "       132376.4373, 130525.3591, 125192.1744, 112578.8796, 130590.3403,\n",
       "       115407.3342, 128612.1056, 121280.74900000001, 120394.6416,\n",
       "       113835.5275, 128934.2057, 123537.2213, 131847.8743, 133974.0888,\n",
       "       129223.9628, 120454.8969, 120101.9308, 122896.7134, 111768.8298,\n",
       "       129573.5321, 132355.4661, 119056.4719, 130675.5543, 111075.4508,\n",
       "       122352.4958, 115818.3403, 115822.0324, 125788.6723, 127821.4025,\n",
       "       133233.3031, 119856.4791, 117245.8592, 119439.5656, 126370.1064,\n",
       "       126630.0312, 132262.2771, 111832.9249, 120842.1258, 130915.0986,\n",
       "       128538.7064, 123909.091, 115213.2767, 113261.4776, 131676.8555,\n",
       "       122543.0089, 131072.678, 118442.8425, 112225.9135, 130240.3279,\n",
       "       130115.3867, 111795.5607, 115777.4317, 116390.7656, 114860.1629,\n",
       "       127214.2713, 112315.7057, 125117.00300000001, 114378.7113,\n",
       "       117788.4523, 130466.7283, 118990.8999, 117971.8765, 125546.0266,\n",
       "       115775.3641, 127013.7157, 118281.571, 119369.8585, 116125.9672,\n",
       "       113208.7542, 121597.0893, 122152.3832, 121752.7488, 119143.015,\n",
       "       120996.4562, 123549.3314, 130185.8323, 127016.2263, 126168.3693,\n",
       "       110705.3533, 117947.6562, 129392.4708, 115666.5206, 119942.7269,\n",
       "       118985.8787, 133478.6071, 114121.8878, 111226.5321, 122785.2115,\n",
       "       126773.4329, 111797.9237, 121143.4023, 126924.0712, 117558.0644,\n",
       "       116773.564, 119061.9362, 112691.8583, 124060.9107, 114130.6012,\n",
       "       129542.0753, 110796.1793, 116438.4678, 117276.7253, 131092.9108,\n",
       "       117144.5476, 131977.5413, 132667.9666, 133315.4157, 122710.6308,\n",
       "       128299.4574, 126675.9611, 132481.1456, 130405.2915, 111879.0025,\n",
       "       132655.7088, 127771.7805, 124573.3761, 120649.9882, 121214.1432,\n",
       "       123363.3966, 130182.8786, 117776.1945, 130833.5767, 111599.5833,\n",
       "       112038.3541, 129043.1969, 120108.5766, 133347.0202, 130484.7458,\n",
       "       124955.1407, 116083.7295, 124014.2424, 122041.7675, 129922.2153,\n",
       "       126285.6308, 110844.9152, 122941.3141, 113367.5151, 112395.16,\n",
       "       111017.8538, 130055.2791, 113772.4662, 122718.7535, 114541.1643,\n",
       "       133613.0001, 121351.9329, 114809.2117, 130389.0462, 132104.6977,\n",
       "       122635.9024, 122317.0515, 129684.0001, 128287.7904, 120380.1685,\n",
       "       122802.4906, 126426.3742, 110984.9202, 124976.1119, 131881.9894,\n",
       "       130163.975, 120871.9581, 126896.8972, 126232.9075, 126403.0401,\n",
       "       112006.0112, 123757.7143, 122850.4881, 124277.4163, 113255.2749,\n",
       "       119337.8109, 132736.7876, 125809.9389, 124092.8106, 128633.0769,\n",
       "       131428.4501, 112312.6043, 117662.4774, 118106.4171, 117028.4676,\n",
       "       115667.1113, 133354.6998, 132133.4962, 113031.5328, 126349.7259,\n",
       "       111522.492, 126333.33300000001, 131325.0709, 116405.9772,\n",
       "       133967.886, 131066.0322, 129033.302, 128413.0269, 130918.2,\n",
       "       130198.2378, 124528.037, 117058.5952, 123670.5804, 132042.9656,\n",
       "       126688.9574, 115180.6384, 129330.7387, 113689.9105, 118808.2141,\n",
       "       131449.4213, 122853.1464, 127854.4839, 115726.3328, 131048.6054,\n",
       "       131449.56900000002, 123705.2863, 113000.0759, 129534.8387,\n",
       "       114577.9377, 123516.6931, 132579.3559, 130777.752, 126760.1413,\n",
       "       131312.6654, 114829.2968, 133905.1201, 125500.0967, 133878.6846,\n",
       "       118414.9302, 131463.7467, 127254.1462, 120883.3298, 128000.987,\n",
       "       111622.0314, 117207.7566, 120975.485, 134009.3854, 117295.9243,\n",
       "       116977.5164, 119129.8711, 118914.54699999999, 130452.1075,\n",
       "       131979.6089, 121059.5175, 126906.349, 119747.0449, 117133.7666,\n",
       "       133288.3894, 113211.5602, 133142.3294, 126284.8924, 114388.1631,\n",
       "       115400.39300000001, 110846.6874, 115959.0837, 116865.2761,\n",
       "       124881.4461, 110698.4122, 119168.4168, 118826.52699999999,\n",
       "       125994.2492, 127589.0947, 129497.4746, 116195.9697, 119399.2477,\n",
       "       121592.2157, 112790.6592, 117039.987, 124280.5176, 111255.1829,\n",
       "       119987.0323, 113040.8369, 130921.006, 122138.2055, 130605.8471,\n",
       "       117321.0307, 128411.9931, 113177.5928, 110853.1856, 111846.0688,\n",
       "       113451.9907, 114295.4172, 130749.5442, 111914.5945, 115949.6319,\n",
       "       114237.8202, 129510.3231, 121426.80900000001, 122078.984,\n",
       "       123056.8034, 129897.6997, 129892.2354, 132409.5186, 122417.6247,\n",
       "       125315.6387, 133163.3006, 126134.9926, 116567.3964, 132921.2456,\n",
       "       118901.9938, 111477.0051, 118429.2556, 120345.9057, 119927.22,\n",
       "       125270.7426, 132123.6013, 116246.6255, 113345.9532, 118676.9226,\n",
       "       114108.3008, 118162.6849, 128238.6114, 115689.4117, 116424.7331,\n",
       "       112465.4579, 123283.6469, 111053.2981, 129894.0076, 120596.0834,\n",
       "       126273.2253, 119634.2139, 111859.2128, 129506.7787, 130275.4768,\n",
       "       129207.1267, 117819.9091, 129285.9903, 118399.2756, 127734.564,\n",
       "       129383.9051, 121114.7515, 127339.5078, 112111.901, 122796.7309,\n",
       "       129948.6509, 115203.2341, 118434.4245, 119999.4378, 112173.7809,\n",
       "       115122.0076, 112319.1025, 124392.4625, 110797.8039, 115354.4631,\n",
       "       134049.1125, 133228.1341, 131800.4675, 126226.4093, 112887.8357,\n",
       "       131614.0896, 121310.4336, 123360.1475, 118041.1406, 120211.5128,\n",
       "       114846.7236, 132036.7628, 112737.3451, 112503.4128, 121065.1295,\n",
       "       129826.5157, 120599.9232, 126415.2979, 131154.9383, 118852.9626,\n",
       "       117462.9555, 119150.8423, 112364.2939, 119698.3089, 118300.0316,\n",
       "       128701.6025, 117679.01800000001, 125985.0928, 119852.0486,\n",
       "       125285.3634, 116554.8432, 116360.0473, 116886.0996, 130561.8371,\n",
       "       129819.4269, 125982.7298, 117368.4374, 124813.3635,\n",
       "       118451.99900000001, 130390.08, 241926.31, 321652.14, 270939.86],\n",
       "      dtype=object)"
      ]
     },
     "execution_count": 15,
     "metadata": {},
     "output_type": "execute_result"
    }
   ],
   "source": [
    "X[:,3]"
   ]
  },
  {
   "cell_type": "code",
   "execution_count": 21,
   "metadata": {},
   "outputs": [
    {
     "data": {
      "text/plain": [
       "array([[0., 0., 1.],\n",
       "       [1., 0., 0.],\n",
       "       [0., 1., 0.],\n",
       "       ...,\n",
       "       [1., 0., 0.],\n",
       "       [1., 0., 0.],\n",
       "       [0., 0., 1.]])"
      ]
     },
     "execution_count": 21,
     "metadata": {},
     "output_type": "execute_result"
    }
   ],
   "source": [
    "from sklearn.preprocessing import OneHotEncoder\n",
    "\n",
    "cg = OneHotEncoder()\n",
    "cg.fit_transform(companies[['State']]).toarray()"
   ]
  },
  {
   "cell_type": "code",
   "execution_count": 23,
   "metadata": {},
   "outputs": [
    {
     "data": {
      "text/plain": [
       "0        New York\n",
       "1      California\n",
       "2         Florida\n",
       "3        New York\n",
       "4         Florida\n",
       "          ...    \n",
       "995    California\n",
       "996    California\n",
       "997    California\n",
       "998    California\n",
       "999      New York\n",
       "Name: State, Length: 1000, dtype: object"
      ]
     },
     "execution_count": 23,
     "metadata": {},
     "output_type": "execute_result"
    }
   ],
   "source": []
  },
  {
   "cell_type": "code",
   "execution_count": null,
   "metadata": {},
   "outputs": [],
   "source": []
  }
 ],
 "metadata": {
  "kernelspec": {
   "display_name": "Python 3",
   "language": "python",
   "name": "python3"
  },
  "language_info": {
   "codemirror_mode": {
    "name": "ipython",
    "version": 3
   },
   "file_extension": ".py",
   "mimetype": "text/x-python",
   "name": "python",
   "nbconvert_exporter": "python",
   "pygments_lexer": "ipython3",
   "version": "3.8.5"
  }
 },
 "nbformat": 4,
 "nbformat_minor": 4
}
